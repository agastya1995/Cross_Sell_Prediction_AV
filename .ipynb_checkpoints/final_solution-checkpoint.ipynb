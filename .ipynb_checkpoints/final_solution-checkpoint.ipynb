{
 "cells": [
  {
   "cell_type": "markdown",
   "metadata": {},
   "source": [
    "WOE without interaction is around 0.82 (2% less than the current roc score of .84)\n",
    "\n",
    "ADASYN and SMOTE both don't work. Score drops to around .62\n",
    "Logistic Regression - 0.79\n",
    "AdaBoosted and Bagging - 0.83"
   ]
  },
  {
   "cell_type": "code",
   "execution_count": 36,
   "metadata": {},
   "outputs": [],
   "source": [
    "import pandas as pd\n",
    "from sklearn.ensemble import RandomForestClassifier, AdaBoostClassifier, BaggingClassifier\n",
    "from sklearn.model_selection import train_test_split\n",
    "from sklearn.metrics import roc_auc_score\n",
    "from sklearn.tree import DecisionTreeClassifier\n",
    "from xgboost import XGBClassifier"
   ]
  },
  {
   "cell_type": "code",
   "execution_count": 16,
   "metadata": {},
   "outputs": [],
   "source": [
    "from imblearn.under_sampling import RandomUnderSampler\n",
    "from imblearn.ensemble import BalancedRandomForestClassifier, BalancedBaggingClassifier\n",
    "from imblearn.over_sampling import SMOTE, ADASYN"
   ]
  },
  {
   "cell_type": "code",
   "execution_count": 17,
   "metadata": {},
   "outputs": [],
   "source": [
    "df = pd.read_pickle('Dataframes/WOE_Encoded_with_Interaction')"
   ]
  },
  {
   "cell_type": "code",
   "execution_count": 18,
   "metadata": {},
   "outputs": [],
   "source": [
    "target = pd.read_pickle('target')"
   ]
  },
  {
   "cell_type": "code",
   "execution_count": 19,
   "metadata": {},
   "outputs": [],
   "source": [
    "# Shuffle the data\n",
    "df['target'] = target\n",
    "df = df.sample(frac=1)\n",
    "\n",
    "target = df['target']\n",
    "df.drop('target', axis=1, inplace=True)"
   ]
  },
  {
   "cell_type": "code",
   "execution_count": 20,
   "metadata": {},
   "outputs": [
    {
     "data": {
      "text/html": [
       "<div>\n",
       "<style scoped>\n",
       "    .dataframe tbody tr th:only-of-type {\n",
       "        vertical-align: middle;\n",
       "    }\n",
       "\n",
       "    .dataframe tbody tr th {\n",
       "        vertical-align: top;\n",
       "    }\n",
       "\n",
       "    .dataframe thead th {\n",
       "        text-align: right;\n",
       "    }\n",
       "</style>\n",
       "<table border=\"1\" class=\"dataframe\">\n",
       "  <thead>\n",
       "    <tr style=\"text-align: right;\">\n",
       "      <th></th>\n",
       "      <th>Age</th>\n",
       "      <th>Region_Code</th>\n",
       "      <th>Previously_Insured</th>\n",
       "      <th>Annual_Premium</th>\n",
       "      <th>Policy_Sales_Channel</th>\n",
       "      <th>Vintage</th>\n",
       "      <th>Gender_Male</th>\n",
       "      <th>Vehicle_Age_Under_1_Year</th>\n",
       "      <th>Vehicle_Age_Over_2_Years</th>\n",
       "      <th>Vehicle_Damage_Yes</th>\n",
       "      <th>Previously_Insured_Gender</th>\n",
       "      <th>Previously_Insured_Vehicle_Damage</th>\n",
       "      <th>Vehicle_Age_Under_1_Vehicle_Damage</th>\n",
       "      <th>Vehicle_Age_Over_2_Vehicle_Damage</th>\n",
       "      <th>Gender_Vehicle_Damage</th>\n",
       "    </tr>\n",
       "  </thead>\n",
       "  <tbody>\n",
       "    <tr>\n",
       "      <th>260027</th>\n",
       "      <td>54</td>\n",
       "      <td>0.499831</td>\n",
       "      <td>0</td>\n",
       "      <td>51855.0</td>\n",
       "      <td>-0.125013</td>\n",
       "      <td>273</td>\n",
       "      <td>1</td>\n",
       "      <td>0</td>\n",
       "      <td>0</td>\n",
       "      <td>1</td>\n",
       "      <td>0</td>\n",
       "      <td>0</td>\n",
       "      <td>0</td>\n",
       "      <td>0</td>\n",
       "      <td>1</td>\n",
       "    </tr>\n",
       "    <tr>\n",
       "      <th>149065</th>\n",
       "      <td>27</td>\n",
       "      <td>-0.272233</td>\n",
       "      <td>0</td>\n",
       "      <td>34510.0</td>\n",
       "      <td>-1.555892</td>\n",
       "      <td>175</td>\n",
       "      <td>0</td>\n",
       "      <td>1</td>\n",
       "      <td>0</td>\n",
       "      <td>1</td>\n",
       "      <td>0</td>\n",
       "      <td>0</td>\n",
       "      <td>1</td>\n",
       "      <td>0</td>\n",
       "      <td>0</td>\n",
       "    </tr>\n",
       "    <tr>\n",
       "      <th>296407</th>\n",
       "      <td>77</td>\n",
       "      <td>0.499831</td>\n",
       "      <td>1</td>\n",
       "      <td>25477.0</td>\n",
       "      <td>0.512838</td>\n",
       "      <td>84</td>\n",
       "      <td>0</td>\n",
       "      <td>0</td>\n",
       "      <td>0</td>\n",
       "      <td>0</td>\n",
       "      <td>0</td>\n",
       "      <td>0</td>\n",
       "      <td>0</td>\n",
       "      <td>0</td>\n",
       "      <td>0</td>\n",
       "    </tr>\n",
       "    <tr>\n",
       "      <th>139683</th>\n",
       "      <td>69</td>\n",
       "      <td>-0.123805</td>\n",
       "      <td>0</td>\n",
       "      <td>30645.0</td>\n",
       "      <td>0.512838</td>\n",
       "      <td>270</td>\n",
       "      <td>0</td>\n",
       "      <td>0</td>\n",
       "      <td>0</td>\n",
       "      <td>1</td>\n",
       "      <td>0</td>\n",
       "      <td>0</td>\n",
       "      <td>0</td>\n",
       "      <td>0</td>\n",
       "      <td>0</td>\n",
       "    </tr>\n",
       "    <tr>\n",
       "      <th>368679</th>\n",
       "      <td>24</td>\n",
       "      <td>-0.777376</td>\n",
       "      <td>1</td>\n",
       "      <td>27491.0</td>\n",
       "      <td>-1.555892</td>\n",
       "      <td>170</td>\n",
       "      <td>0</td>\n",
       "      <td>1</td>\n",
       "      <td>0</td>\n",
       "      <td>0</td>\n",
       "      <td>0</td>\n",
       "      <td>0</td>\n",
       "      <td>0</td>\n",
       "      <td>0</td>\n",
       "      <td>0</td>\n",
       "    </tr>\n",
       "  </tbody>\n",
       "</table>\n",
       "</div>"
      ],
      "text/plain": [
       "        Age  Region_Code  Previously_Insured  Annual_Premium  \\\n",
       "260027   54     0.499831                   0         51855.0   \n",
       "149065   27    -0.272233                   0         34510.0   \n",
       "296407   77     0.499831                   1         25477.0   \n",
       "139683   69    -0.123805                   0         30645.0   \n",
       "368679   24    -0.777376                   1         27491.0   \n",
       "\n",
       "        Policy_Sales_Channel  Vintage  Gender_Male  Vehicle_Age_Under_1_Year  \\\n",
       "260027             -0.125013      273            1                         0   \n",
       "149065             -1.555892      175            0                         1   \n",
       "296407              0.512838       84            0                         0   \n",
       "139683              0.512838      270            0                         0   \n",
       "368679             -1.555892      170            0                         1   \n",
       "\n",
       "        Vehicle_Age_Over_2_Years  Vehicle_Damage_Yes  \\\n",
       "260027                         0                   1   \n",
       "149065                         0                   1   \n",
       "296407                         0                   0   \n",
       "139683                         0                   1   \n",
       "368679                         0                   0   \n",
       "\n",
       "        Previously_Insured_Gender  Previously_Insured_Vehicle_Damage  \\\n",
       "260027                          0                                  0   \n",
       "149065                          0                                  0   \n",
       "296407                          0                                  0   \n",
       "139683                          0                                  0   \n",
       "368679                          0                                  0   \n",
       "\n",
       "        Vehicle_Age_Under_1_Vehicle_Damage  Vehicle_Age_Over_2_Vehicle_Damage  \\\n",
       "260027                                   0                                  0   \n",
       "149065                                   1                                  0   \n",
       "296407                                   0                                  0   \n",
       "139683                                   0                                  0   \n",
       "368679                                   0                                  0   \n",
       "\n",
       "        Gender_Vehicle_Damage  \n",
       "260027                      1  \n",
       "149065                      0  \n",
       "296407                      0  \n",
       "139683                      0  \n",
       "368679                      0  "
      ]
     },
     "execution_count": 20,
     "metadata": {},
     "output_type": "execute_result"
    }
   ],
   "source": [
    "df.head(5)"
   ]
  },
  {
   "cell_type": "code",
   "execution_count": 21,
   "metadata": {},
   "outputs": [],
   "source": [
    "x_train, x_test, y_train, y_test = train_test_split(df, target)"
   ]
  },
  {
   "cell_type": "markdown",
   "metadata": {},
   "source": [
    "The best two classifiers are Random Forest on an undersampled dataset, or Balanced Random Forest. Both are almost the same\n"
   ]
  },
  {
   "cell_type": "code",
   "execution_count": 22,
   "metadata": {},
   "outputs": [],
   "source": [
    "rus = RandomUnderSampler()\n",
    "x_train_resampled, y_train_resampled = rus.fit_resample(x_train, y_train)"
   ]
  },
  {
   "cell_type": "code",
   "execution_count": 23,
   "metadata": {},
   "outputs": [
    {
     "data": {
      "text/plain": [
       "RandomForestClassifier(n_estimators=500, n_jobs=9, oob_score=True)"
      ]
     },
     "execution_count": 23,
     "metadata": {},
     "output_type": "execute_result"
    }
   ],
   "source": [
    "rf = RandomForestClassifier(500, n_jobs=9, oob_score=True)\n",
    "rf.fit(x_train_resampled, y_train_resampled)"
   ]
  },
  {
   "cell_type": "code",
   "execution_count": 24,
   "metadata": {},
   "outputs": [
    {
     "data": {
      "text/plain": [
       "0.8397652014952803"
      ]
     },
     "execution_count": 24,
     "metadata": {},
     "output_type": "execute_result"
    }
   ],
   "source": [
    "roc_auc_score(y_test, rf.predict_proba(x_test)[:, 1])"
   ]
  },
  {
   "cell_type": "markdown",
   "metadata": {},
   "source": [
    "Perhaps a balanced random forest classifier will have better results, since it will use most of the data of the majority class. "
   ]
  },
  {
   "cell_type": "code",
   "execution_count": 25,
   "metadata": {},
   "outputs": [
    {
     "data": {
      "text/plain": [
       "BalancedRandomForestClassifier(n_estimators=500, n_jobs=10, oob_score=True)"
      ]
     },
     "execution_count": 25,
     "metadata": {},
     "output_type": "execute_result"
    }
   ],
   "source": [
    "bal_rf = BalancedRandomForestClassifier(500, oob_score=True, n_jobs=10)\n",
    "bal_rf.fit(x_train_resampled, y_train_resampled)"
   ]
  },
  {
   "cell_type": "code",
   "execution_count": 26,
   "metadata": {},
   "outputs": [
    {
     "data": {
      "text/plain": [
       "0.8395461502240977"
      ]
     },
     "execution_count": 26,
     "metadata": {},
     "output_type": "execute_result"
    }
   ],
   "source": [
    "roc_auc_score(y_test, bal_rf.predict_proba(x_test)[:, 1])"
   ]
  },
  {
   "cell_type": "markdown",
   "metadata": {},
   "source": [
    "Bagging a boosted model may increase the score, but will take far too much time."
   ]
  },
  {
   "cell_type": "code",
   "execution_count": 27,
   "metadata": {},
   "outputs": [
    {
     "name": "stderr",
     "output_type": "stream",
     "text": [
      "C:\\Users\\agast\\anaconda3\\lib\\site-packages\\sklearn\\utils\\validation.py:68: FutureWarning: Pass n_estimators=50 as keyword args. From version 0.25 passing these as positional arguments will result in an error\n",
      "  warnings.warn(\"Pass {} as keyword args. From version 0.25 \"\n"
     ]
    },
    {
     "data": {
      "text/plain": [
       "BaggingClassifier(base_estimator=AdaBoostClassifier(base_estimator=DecisionTreeClassifier(max_depth=6)),\n",
       "                  n_estimators=50, n_jobs=10, oob_score=True)"
      ]
     },
     "execution_count": 27,
     "metadata": {},
     "output_type": "execute_result"
    }
   ],
   "source": [
    "adb = AdaBoostClassifier(DecisionTreeClassifier(max_depth=6), 50)\n",
    "bagged_adb = BaggingClassifier(adb, n_estimators=50, n_jobs=10, oob_score=True)\n",
    "bagged_adb.fit(x_train_resampled, y_train_resampled)"
   ]
  },
  {
   "cell_type": "code",
   "execution_count": 28,
   "metadata": {},
   "outputs": [
    {
     "data": {
      "text/plain": [
       "0.8333652642556787"
      ]
     },
     "execution_count": 28,
     "metadata": {},
     "output_type": "execute_result"
    }
   ],
   "source": [
    "roc_auc_score(y_test, bagged_adb.predict_proba(x_test)[:, 1]) # Good, but too slow"
   ]
  },
  {
   "cell_type": "markdown",
   "metadata": {},
   "source": [
    "XGB has the best score of the models we have tried so far, of 0.85. However, this is without any optimization at all\n",
    "\n",
    "Can use Bayesian optimization to increase the score"
   ]
  },
  {
   "cell_type": "code",
   "execution_count": 37,
   "metadata": {},
   "outputs": [
    {
     "data": {
      "text/plain": [
       "XGBClassifier(base_score=0.5, booster='gbtree', colsample_bylevel=1,\n",
       "              colsample_bynode=1, colsample_bytree=1, gamma=0, gpu_id=-1,\n",
       "              importance_type='gain', interaction_constraints='',\n",
       "              learning_rate=0.300000012, max_delta_step=0, max_depth=6,\n",
       "              min_child_weight=1, missing=nan, monotone_constraints='()',\n",
       "              n_estimators=100, n_jobs=0, num_parallel_tree=1, random_state=0,\n",
       "              reg_alpha=0, reg_lambda=1, scale_pos_weight=1, subsample=1,\n",
       "              tree_method='exact', validate_parameters=1, verbosity=None)"
      ]
     },
     "execution_count": 37,
     "metadata": {},
     "output_type": "execute_result"
    }
   ],
   "source": [
    "xgb  = XGBClassifier()\n",
    "xgb.fit(x_train_resampled, y_train_resampled)"
   ]
  },
  {
   "cell_type": "code",
   "execution_count": 38,
   "metadata": {},
   "outputs": [
    {
     "data": {
      "text/plain": [
       "0.8505520362598515"
      ]
     },
     "execution_count": 38,
     "metadata": {},
     "output_type": "execute_result"
    }
   ],
   "source": [
    "roc_auc_score(y_test, xgb.predict_proba(x_test)[:, 1])"
   ]
  },
  {
   "cell_type": "markdown",
   "metadata": {},
   "source": [
    "**To upload on the hackathon website to check score on actual test data**"
   ]
  },
  {
   "cell_type": "code",
   "execution_count": 39,
   "metadata": {},
   "outputs": [],
   "source": [
    "test_df =pd.read_pickle('test_df_WOE_with_interaction')"
   ]
  },
  {
   "cell_type": "code",
   "execution_count": 40,
   "metadata": {},
   "outputs": [
    {
     "data": {
      "text/html": [
       "<div>\n",
       "<style scoped>\n",
       "    .dataframe tbody tr th:only-of-type {\n",
       "        vertical-align: middle;\n",
       "    }\n",
       "\n",
       "    .dataframe tbody tr th {\n",
       "        vertical-align: top;\n",
       "    }\n",
       "\n",
       "    .dataframe thead th {\n",
       "        text-align: right;\n",
       "    }\n",
       "</style>\n",
       "<table border=\"1\" class=\"dataframe\">\n",
       "  <thead>\n",
       "    <tr style=\"text-align: right;\">\n",
       "      <th></th>\n",
       "      <th>Age</th>\n",
       "      <th>Region_Code</th>\n",
       "      <th>Previously_Insured</th>\n",
       "      <th>Annual_Premium</th>\n",
       "      <th>Policy_Sales_Channel</th>\n",
       "      <th>Vintage</th>\n",
       "      <th>Gender_Male</th>\n",
       "      <th>Vehicle_Age_Under_1_Year</th>\n",
       "      <th>Vehicle_Age_Over_2_Years</th>\n",
       "      <th>Vehicle_Damage_Yes</th>\n",
       "      <th>Previously_Insured_Gender</th>\n",
       "      <th>Previously_Insured_Vehicle_Damage</th>\n",
       "      <th>Vehicle_Age_Under_1_Vehicle_Damage</th>\n",
       "      <th>Vehicle_Age_Over_2_Vehicle_Damage</th>\n",
       "      <th>Gender_Vehicle_Damage</th>\n",
       "    </tr>\n",
       "    <tr>\n",
       "      <th>id</th>\n",
       "      <th></th>\n",
       "      <th></th>\n",
       "      <th></th>\n",
       "      <th></th>\n",
       "      <th></th>\n",
       "      <th></th>\n",
       "      <th></th>\n",
       "      <th></th>\n",
       "      <th></th>\n",
       "      <th></th>\n",
       "      <th></th>\n",
       "      <th></th>\n",
       "      <th></th>\n",
       "      <th></th>\n",
       "      <th></th>\n",
       "    </tr>\n",
       "  </thead>\n",
       "  <tbody>\n",
       "    <tr>\n",
       "      <th>381110</th>\n",
       "      <td>25</td>\n",
       "      <td>-0.093676</td>\n",
       "      <td>1</td>\n",
       "      <td>35786.0</td>\n",
       "      <td>-1.555892</td>\n",
       "      <td>53</td>\n",
       "      <td>1</td>\n",
       "      <td>1</td>\n",
       "      <td>0</td>\n",
       "      <td>0</td>\n",
       "      <td>1</td>\n",
       "      <td>0</td>\n",
       "      <td>0</td>\n",
       "      <td>0</td>\n",
       "      <td>0</td>\n",
       "    </tr>\n",
       "    <tr>\n",
       "      <th>381111</th>\n",
       "      <td>40</td>\n",
       "      <td>0.499831</td>\n",
       "      <td>0</td>\n",
       "      <td>33762.0</td>\n",
       "      <td>-0.078471</td>\n",
       "      <td>111</td>\n",
       "      <td>1</td>\n",
       "      <td>0</td>\n",
       "      <td>0</td>\n",
       "      <td>1</td>\n",
       "      <td>0</td>\n",
       "      <td>0</td>\n",
       "      <td>0</td>\n",
       "      <td>0</td>\n",
       "      <td>1</td>\n",
       "    </tr>\n",
       "    <tr>\n",
       "      <th>381112</th>\n",
       "      <td>47</td>\n",
       "      <td>0.499831</td>\n",
       "      <td>0</td>\n",
       "      <td>40050.0</td>\n",
       "      <td>0.512838</td>\n",
       "      <td>199</td>\n",
       "      <td>1</td>\n",
       "      <td>0</td>\n",
       "      <td>0</td>\n",
       "      <td>1</td>\n",
       "      <td>0</td>\n",
       "      <td>0</td>\n",
       "      <td>0</td>\n",
       "      <td>0</td>\n",
       "      <td>1</td>\n",
       "    </tr>\n",
       "    <tr>\n",
       "      <th>381113</th>\n",
       "      <td>24</td>\n",
       "      <td>-0.553572</td>\n",
       "      <td>1</td>\n",
       "      <td>37356.0</td>\n",
       "      <td>-1.555892</td>\n",
       "      <td>187</td>\n",
       "      <td>1</td>\n",
       "      <td>1</td>\n",
       "      <td>0</td>\n",
       "      <td>1</td>\n",
       "      <td>1</td>\n",
       "      <td>1</td>\n",
       "      <td>1</td>\n",
       "      <td>0</td>\n",
       "      <td>1</td>\n",
       "    </tr>\n",
       "    <tr>\n",
       "      <th>381114</th>\n",
       "      <td>27</td>\n",
       "      <td>0.499831</td>\n",
       "      <td>1</td>\n",
       "      <td>59097.0</td>\n",
       "      <td>-1.555892</td>\n",
       "      <td>297</td>\n",
       "      <td>1</td>\n",
       "      <td>1</td>\n",
       "      <td>0</td>\n",
       "      <td>0</td>\n",
       "      <td>1</td>\n",
       "      <td>0</td>\n",
       "      <td>0</td>\n",
       "      <td>0</td>\n",
       "      <td>0</td>\n",
       "    </tr>\n",
       "    <tr>\n",
       "      <th>...</th>\n",
       "      <td>...</td>\n",
       "      <td>...</td>\n",
       "      <td>...</td>\n",
       "      <td>...</td>\n",
       "      <td>...</td>\n",
       "      <td>...</td>\n",
       "      <td>...</td>\n",
       "      <td>...</td>\n",
       "      <td>...</td>\n",
       "      <td>...</td>\n",
       "      <td>...</td>\n",
       "      <td>...</td>\n",
       "      <td>...</td>\n",
       "      <td>...</td>\n",
       "      <td>...</td>\n",
       "    </tr>\n",
       "    <tr>\n",
       "      <th>508142</th>\n",
       "      <td>26</td>\n",
       "      <td>-0.482034</td>\n",
       "      <td>1</td>\n",
       "      <td>30867.0</td>\n",
       "      <td>-1.555892</td>\n",
       "      <td>56</td>\n",
       "      <td>0</td>\n",
       "      <td>1</td>\n",
       "      <td>0</td>\n",
       "      <td>0</td>\n",
       "      <td>0</td>\n",
       "      <td>0</td>\n",
       "      <td>0</td>\n",
       "      <td>0</td>\n",
       "      <td>0</td>\n",
       "    </tr>\n",
       "    <tr>\n",
       "      <th>508143</th>\n",
       "      <td>38</td>\n",
       "      <td>0.499831</td>\n",
       "      <td>0</td>\n",
       "      <td>28700.0</td>\n",
       "      <td>0.405771</td>\n",
       "      <td>165</td>\n",
       "      <td>0</td>\n",
       "      <td>0</td>\n",
       "      <td>0</td>\n",
       "      <td>1</td>\n",
       "      <td>0</td>\n",
       "      <td>0</td>\n",
       "      <td>0</td>\n",
       "      <td>0</td>\n",
       "      <td>0</td>\n",
       "    </tr>\n",
       "    <tr>\n",
       "      <th>508144</th>\n",
       "      <td>21</td>\n",
       "      <td>-0.196729</td>\n",
       "      <td>1</td>\n",
       "      <td>29802.0</td>\n",
       "      <td>-1.555892</td>\n",
       "      <td>74</td>\n",
       "      <td>1</td>\n",
       "      <td>1</td>\n",
       "      <td>0</td>\n",
       "      <td>0</td>\n",
       "      <td>1</td>\n",
       "      <td>0</td>\n",
       "      <td>0</td>\n",
       "      <td>0</td>\n",
       "      <td>0</td>\n",
       "    </tr>\n",
       "    <tr>\n",
       "      <th>508145</th>\n",
       "      <td>71</td>\n",
       "      <td>0.499831</td>\n",
       "      <td>1</td>\n",
       "      <td>62875.0</td>\n",
       "      <td>0.578246</td>\n",
       "      <td>265</td>\n",
       "      <td>1</td>\n",
       "      <td>0</td>\n",
       "      <td>0</td>\n",
       "      <td>0</td>\n",
       "      <td>1</td>\n",
       "      <td>0</td>\n",
       "      <td>0</td>\n",
       "      <td>0</td>\n",
       "      <td>0</td>\n",
       "    </tr>\n",
       "    <tr>\n",
       "      <th>508146</th>\n",
       "      <td>41</td>\n",
       "      <td>0.007998</td>\n",
       "      <td>1</td>\n",
       "      <td>27927.0</td>\n",
       "      <td>0.512838</td>\n",
       "      <td>231</td>\n",
       "      <td>1</td>\n",
       "      <td>0</td>\n",
       "      <td>0</td>\n",
       "      <td>0</td>\n",
       "      <td>1</td>\n",
       "      <td>0</td>\n",
       "      <td>0</td>\n",
       "      <td>0</td>\n",
       "      <td>0</td>\n",
       "    </tr>\n",
       "  </tbody>\n",
       "</table>\n",
       "<p>127037 rows × 15 columns</p>\n",
       "</div>"
      ],
      "text/plain": [
       "        Age  Region_Code  Previously_Insured  Annual_Premium  \\\n",
       "id                                                             \n",
       "381110   25    -0.093676                   1         35786.0   \n",
       "381111   40     0.499831                   0         33762.0   \n",
       "381112   47     0.499831                   0         40050.0   \n",
       "381113   24    -0.553572                   1         37356.0   \n",
       "381114   27     0.499831                   1         59097.0   \n",
       "...     ...          ...                 ...             ...   \n",
       "508142   26    -0.482034                   1         30867.0   \n",
       "508143   38     0.499831                   0         28700.0   \n",
       "508144   21    -0.196729                   1         29802.0   \n",
       "508145   71     0.499831                   1         62875.0   \n",
       "508146   41     0.007998                   1         27927.0   \n",
       "\n",
       "        Policy_Sales_Channel  Vintage  Gender_Male  Vehicle_Age_Under_1_Year  \\\n",
       "id                                                                             \n",
       "381110             -1.555892       53            1                         1   \n",
       "381111             -0.078471      111            1                         0   \n",
       "381112              0.512838      199            1                         0   \n",
       "381113             -1.555892      187            1                         1   \n",
       "381114             -1.555892      297            1                         1   \n",
       "...                      ...      ...          ...                       ...   \n",
       "508142             -1.555892       56            0                         1   \n",
       "508143              0.405771      165            0                         0   \n",
       "508144             -1.555892       74            1                         1   \n",
       "508145              0.578246      265            1                         0   \n",
       "508146              0.512838      231            1                         0   \n",
       "\n",
       "        Vehicle_Age_Over_2_Years  Vehicle_Damage_Yes  \\\n",
       "id                                                     \n",
       "381110                         0                   0   \n",
       "381111                         0                   1   \n",
       "381112                         0                   1   \n",
       "381113                         0                   1   \n",
       "381114                         0                   0   \n",
       "...                          ...                 ...   \n",
       "508142                         0                   0   \n",
       "508143                         0                   1   \n",
       "508144                         0                   0   \n",
       "508145                         0                   0   \n",
       "508146                         0                   0   \n",
       "\n",
       "        Previously_Insured_Gender  Previously_Insured_Vehicle_Damage  \\\n",
       "id                                                                     \n",
       "381110                          1                                  0   \n",
       "381111                          0                                  0   \n",
       "381112                          0                                  0   \n",
       "381113                          1                                  1   \n",
       "381114                          1                                  0   \n",
       "...                           ...                                ...   \n",
       "508142                          0                                  0   \n",
       "508143                          0                                  0   \n",
       "508144                          1                                  0   \n",
       "508145                          1                                  0   \n",
       "508146                          1                                  0   \n",
       "\n",
       "        Vehicle_Age_Under_1_Vehicle_Damage  Vehicle_Age_Over_2_Vehicle_Damage  \\\n",
       "id                                                                              \n",
       "381110                                   0                                  0   \n",
       "381111                                   0                                  0   \n",
       "381112                                   0                                  0   \n",
       "381113                                   1                                  0   \n",
       "381114                                   0                                  0   \n",
       "...                                    ...                                ...   \n",
       "508142                                   0                                  0   \n",
       "508143                                   0                                  0   \n",
       "508144                                   0                                  0   \n",
       "508145                                   0                                  0   \n",
       "508146                                   0                                  0   \n",
       "\n",
       "        Gender_Vehicle_Damage  \n",
       "id                             \n",
       "381110                      0  \n",
       "381111                      1  \n",
       "381112                      1  \n",
       "381113                      1  \n",
       "381114                      0  \n",
       "...                       ...  \n",
       "508142                      0  \n",
       "508143                      0  \n",
       "508144                      0  \n",
       "508145                      0  \n",
       "508146                      0  \n",
       "\n",
       "[127037 rows x 15 columns]"
      ]
     },
     "execution_count": 40,
     "metadata": {},
     "output_type": "execute_result"
    }
   ],
   "source": [
    "test_df"
   ]
  },
  {
   "cell_type": "code",
   "execution_count": 42,
   "metadata": {},
   "outputs": [],
   "source": [
    "solution = pd.DataFrame(data= xgb.predict_proba(test_df)[:, 1], index=test_df.index, columns=['Response'])"
   ]
  },
  {
   "cell_type": "code",
   "execution_count": 43,
   "metadata": {},
   "outputs": [],
   "source": [
    "solution.to_csv('solution_to_upload.csv')"
   ]
  }
 ],
 "metadata": {
  "kernelspec": {
   "display_name": "Python 3",
   "language": "python",
   "name": "python3"
  },
  "language_info": {
   "codemirror_mode": {
    "name": "ipython",
    "version": 3
   },
   "file_extension": ".py",
   "mimetype": "text/x-python",
   "name": "python",
   "nbconvert_exporter": "python",
   "pygments_lexer": "ipython3",
   "version": "3.8.3"
  }
 },
 "nbformat": 4,
 "nbformat_minor": 4
}
