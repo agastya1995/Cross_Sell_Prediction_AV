{
 "cells": [
  {
   "cell_type": "code",
   "execution_count": 15,
   "metadata": {},
   "outputs": [],
   "source": [
    "import pandas as pd\n",
    "from sklearn.ensemble import RandomForestClassifier\n",
    "from sklearn.model_selection import train_test_split\n",
    "from sklearn.metrics import roc_auc_score"
   ]
  },
  {
   "cell_type": "code",
   "execution_count": 17,
   "metadata": {},
   "outputs": [],
   "source": [
    "from imblearn.under_sampling import RandomUnderSampler"
   ]
  },
  {
   "cell_type": "code",
   "execution_count": 3,
   "metadata": {},
   "outputs": [],
   "source": [
    "df = pd.read_pickle('df_with_channel_region_interaction')"
   ]
  },
  {
   "cell_type": "code",
   "execution_count": 10,
   "metadata": {},
   "outputs": [],
   "source": [
    "target = pd.read_pickle('target')"
   ]
  },
  {
   "cell_type": "code",
   "execution_count": 5,
   "metadata": {},
   "outputs": [
    {
     "data": {
      "text/plain": [
       "Index(['Age', 'Previously_Insured', 'Annual_Premium', 'Vintage', 'Gender_Male',\n",
       "       'Vehicle_Age_Under_1_Year', 'Vehicle_Age_Over_2_Years',\n",
       "       'Vehicle_Damage_Yes', 'Policy_Sales_Channel_Label_1',\n",
       "       'Policy_Sales_Channel_Label_2', 'Policy_Sales_Channel_Label_3',\n",
       "       'Policy_Sales_Channel_Label_4', 'Policy_Sales_Channel_Label_5',\n",
       "       'Policy_Sales_Channel_Label_6', 'Policy_Sales_Channel_Label_7',\n",
       "       'Region_Code_Labels_2', 'Region_Code_Labels_3', 'Region_Code_Labels_4',\n",
       "       'Region_Code_Labels_5',\n",
       "       'Policy_Sales_Channel_Label_1___Region_Code_Labels_2',\n",
       "       'Policy_Sales_Channel_Label_1___Region_Code_Labels_3',\n",
       "       'Policy_Sales_Channel_Label_1___Region_Code_Labels_4',\n",
       "       'Policy_Sales_Channel_Label_1___Region_Code_Labels_5',\n",
       "       'Policy_Sales_Channel_Label_2___Region_Code_Labels_2',\n",
       "       'Policy_Sales_Channel_Label_2___Region_Code_Labels_3',\n",
       "       'Policy_Sales_Channel_Label_2___Region_Code_Labels_4',\n",
       "       'Policy_Sales_Channel_Label_2___Region_Code_Labels_5',\n",
       "       'Policy_Sales_Channel_Label_3___Region_Code_Labels_2',\n",
       "       'Policy_Sales_Channel_Label_3___Region_Code_Labels_3',\n",
       "       'Policy_Sales_Channel_Label_3___Region_Code_Labels_4',\n",
       "       'Policy_Sales_Channel_Label_3___Region_Code_Labels_5',\n",
       "       'Policy_Sales_Channel_Label_4___Region_Code_Labels_2',\n",
       "       'Policy_Sales_Channel_Label_4___Region_Code_Labels_3',\n",
       "       'Policy_Sales_Channel_Label_4___Region_Code_Labels_4',\n",
       "       'Policy_Sales_Channel_Label_4___Region_Code_Labels_5',\n",
       "       'Policy_Sales_Channel_Label_5___Region_Code_Labels_2',\n",
       "       'Policy_Sales_Channel_Label_5___Region_Code_Labels_3',\n",
       "       'Policy_Sales_Channel_Label_5___Region_Code_Labels_4',\n",
       "       'Policy_Sales_Channel_Label_5___Region_Code_Labels_5',\n",
       "       'Policy_Sales_Channel_Label_6___Region_Code_Labels_2',\n",
       "       'Policy_Sales_Channel_Label_6___Region_Code_Labels_3',\n",
       "       'Policy_Sales_Channel_Label_6___Region_Code_Labels_4',\n",
       "       'Policy_Sales_Channel_Label_6___Region_Code_Labels_5',\n",
       "       'Policy_Sales_Channel_Label_7___Region_Code_Labels_2',\n",
       "       'Policy_Sales_Channel_Label_7___Region_Code_Labels_3',\n",
       "       'Policy_Sales_Channel_Label_7___Region_Code_Labels_4',\n",
       "       'Policy_Sales_Channel_Label_7___Region_Code_Labels_5'],\n",
       "      dtype='object')"
      ]
     },
     "execution_count": 5,
     "metadata": {},
     "output_type": "execute_result"
    }
   ],
   "source": [
    "df.columns"
   ]
  },
  {
   "cell_type": "code",
   "execution_count": 7,
   "metadata": {},
   "outputs": [],
   "source": [
    "cols = ['Vehicle_Age_Under_1_Year', 'Vehicle_Age_Over_2_Years',\n",
    "       'Vehicle_Damage_Yes', 'Policy_Sales_Channel_Label_1',\n",
    "       'Policy_Sales_Channel_Label_2', 'Policy_Sales_Channel_Label_3',\n",
    "       'Policy_Sales_Channel_Label_4', 'Policy_Sales_Channel_Label_5',\n",
    "       'Policy_Sales_Channel_Label_6', 'Policy_Sales_Channel_Label_7',\n",
    "       'Region_Code_Labels_2', 'Region_Code_Labels_3', 'Region_Code_Labels_4',\n",
    "       'Region_Code_Labels_5']\n",
    "df = df.drop(cols, axis=1)"
   ]
  },
  {
   "cell_type": "code",
   "execution_count": 8,
   "metadata": {},
   "outputs": [],
   "source": [
    "del cols"
   ]
  },
  {
   "cell_type": "code",
   "execution_count": 12,
   "metadata": {},
   "outputs": [],
   "source": [
    "x_train, x_test, y_train, y_test = train_test_split(df, target)"
   ]
  },
  {
   "cell_type": "code",
   "execution_count": 18,
   "metadata": {},
   "outputs": [],
   "source": [
    "rus = RandomUnderSampler()\n",
    "x_train_resampled, y_train_resampled = rus.fit_resample(x_train, y_train)"
   ]
  },
  {
   "cell_type": "code",
   "execution_count": 14,
   "metadata": {},
   "outputs": [
    {
     "data": {
      "text/plain": [
       "RandomForestClassifier(n_estimators=500, n_jobs=9)"
      ]
     },
     "execution_count": 14,
     "metadata": {},
     "output_type": "execute_result"
    }
   ],
   "source": [
    "rf = RandomForestClassifier(500, n_jobs=9)\n",
    "rf.fit(x_train, y_train)"
   ]
  },
  {
   "cell_type": "code",
   "execution_count": 16,
   "metadata": {},
   "outputs": [
    {
     "data": {
      "text/plain": [
       "(0.49980631279024706, 0.9885342732597753)"
      ]
     },
     "execution_count": 16,
     "metadata": {},
     "output_type": "execute_result"
    }
   ],
   "source": [
    "roc_auc_score(y_test, rf.predict(x_test)), roc_auc_score(y_train, rf.predict(x_train))"
   ]
  },
  {
   "cell_type": "code",
   "execution_count": 19,
   "metadata": {},
   "outputs": [
    {
     "data": {
      "text/plain": [
       "RandomForestClassifier(n_estimators=500, n_jobs=9)"
      ]
     },
     "execution_count": 19,
     "metadata": {},
     "output_type": "execute_result"
    }
   ],
   "source": [
    "rf = RandomForestClassifier(500, n_jobs=9)\n",
    "rf.fit(x_train_resampled, y_train_resampled)"
   ]
  },
  {
   "cell_type": "code",
   "execution_count": 20,
   "metadata": {},
   "outputs": [
    {
     "data": {
      "text/plain": [
       "(0.499175095235918, 0.9980045610034207)"
      ]
     },
     "execution_count": 20,
     "metadata": {},
     "output_type": "execute_result"
    }
   ],
   "source": [
    "roc_auc_score(y_test, rf.predict(x_test)), roc_auc_score(y_train_resampled, rf.predict(x_train_resampled))"
   ]
  },
  {
   "cell_type": "code",
   "execution_count": 53,
   "metadata": {},
   "outputs": [],
   "source": [
    "df = pd.read_pickle('WOE_Encoded_Data')\n",
    "# df = df.drop(['Policy_Sales_Channel', 'Region_Code'], axis=1)"
   ]
  },
  {
   "cell_type": "code",
   "execution_count": 54,
   "metadata": {},
   "outputs": [],
   "source": [
    "x_train, x_test, y_train, y_test = train_test_split(df, target)"
   ]
  },
  {
   "cell_type": "code",
   "execution_count": 55,
   "metadata": {},
   "outputs": [],
   "source": [
    "rus = RandomUnderSampler()\n",
    "x_train_resampled, y_train_resampled = rus.fit_resample(x_train, y_train)"
   ]
  },
  {
   "cell_type": "code",
   "execution_count": 56,
   "metadata": {},
   "outputs": [
    {
     "data": {
      "text/plain": [
       "RandomForestClassifier(n_estimators=500, n_jobs=9)"
      ]
     },
     "execution_count": 56,
     "metadata": {},
     "output_type": "execute_result"
    }
   ],
   "source": [
    "rf = RandomForestClassifier(500, n_jobs=9)\n",
    "rf.fit(x_train_resampled, y_train_resampled)"
   ]
  },
  {
   "cell_type": "code",
   "execution_count": 57,
   "metadata": {},
   "outputs": [
    {
     "data": {
      "text/plain": [
       "(0.7886639167318927, 0.9999428816221618)"
      ]
     },
     "execution_count": 57,
     "metadata": {},
     "output_type": "execute_result"
    }
   ],
   "source": [
    "roc_auc_score(y_test, rf.predict(x_test)), roc_auc_score(y_train_resampled, rf.predict(x_train_resampled))"
   ]
  },
  {
   "cell_type": "code",
   "execution_count": 58,
   "metadata": {},
   "outputs": [
    {
     "data": {
      "text/plain": [
       "Age                         0.125077\n",
       "Region_Code                 0.078996\n",
       "Previously_Insured          0.149378\n",
       "Annual_Premium              0.159455\n",
       "Policy_Sales_Channel        0.094180\n",
       "Vintage                     0.180225\n",
       "Gender_Male                 0.011557\n",
       "Vehicle_Age_Under_1_Year    0.017249\n",
       "Vehicle_Age_Over_2_Years    0.005241\n",
       "Vehicle_Damage_Yes          0.178643\n",
       "dtype: float64"
      ]
     },
     "execution_count": 58,
     "metadata": {},
     "output_type": "execute_result"
    }
   ],
   "source": [
    "pd.Series(rf.feature_importances_, index=df.columns)"
   ]
  },
  {
   "cell_type": "code",
   "execution_count": 59,
   "metadata": {},
   "outputs": [],
   "source": [
    "df['age_under_1_prev_insured'] = df['Vehicle_Age_Under_1_Year']*df['Previously_Insured']\n",
    "df['age_over_2_prev_insured'] = df['Vehicle_Age_Over_2_Years']*df['Previously_Insured']\n",
    "df['veh_damage_prev_insured'] = df['Vehicle_Damage_Yes']*df['Previously_Insured']"
   ]
  },
  {
   "cell_type": "code",
   "execution_count": 60,
   "metadata": {},
   "outputs": [],
   "source": [
    "x_train, x_test, y_train, y_test = train_test_split(df, target)"
   ]
  },
  {
   "cell_type": "code",
   "execution_count": 61,
   "metadata": {},
   "outputs": [],
   "source": [
    "rus = RandomUnderSampler()\n",
    "x_train_resampled, y_train_resampled = rus.fit_resample(x_train, y_train)"
   ]
  },
  {
   "cell_type": "code",
   "execution_count": 62,
   "metadata": {},
   "outputs": [
    {
     "data": {
      "text/plain": [
       "RandomForestClassifier(n_estimators=500, n_jobs=9)"
      ]
     },
     "execution_count": 62,
     "metadata": {},
     "output_type": "execute_result"
    }
   ],
   "source": [
    "rf = RandomForestClassifier(500, n_jobs=9)\n",
    "rf.fit(x_train_resampled, y_train_resampled)"
   ]
  },
  {
   "cell_type": "code",
   "execution_count": 63,
   "metadata": {},
   "outputs": [
    {
     "data": {
      "text/plain": [
       "(0.7844717115413811, 0.999971499415738)"
      ]
     },
     "execution_count": 63,
     "metadata": {},
     "output_type": "execute_result"
    }
   ],
   "source": [
    "roc_auc_score(y_test, rf.predict(x_test)), roc_auc_score(y_train_resampled, rf.predict(x_train_resampled))"
   ]
  },
  {
   "cell_type": "code",
   "execution_count": null,
   "metadata": {},
   "outputs": [],
   "source": []
  },
  {
   "cell_type": "code",
   "execution_count": null,
   "metadata": {},
   "outputs": [],
   "source": []
  },
  {
   "cell_type": "code",
   "execution_count": 68,
   "metadata": {},
   "outputs": [],
   "source": [
    "df = pd.read_pickle('df_ordered_region_channels')"
   ]
  },
  {
   "cell_type": "code",
   "execution_count": 69,
   "metadata": {},
   "outputs": [],
   "source": [
    "x_train, x_test, y_train, y_test = train_test_split(df, target)"
   ]
  },
  {
   "cell_type": "code",
   "execution_count": 70,
   "metadata": {},
   "outputs": [],
   "source": [
    "rus = RandomUnderSampler()\n",
    "x_train_resampled, y_train_resampled = rus.fit_resample(x_train, y_train)"
   ]
  },
  {
   "cell_type": "code",
   "execution_count": 71,
   "metadata": {},
   "outputs": [
    {
     "data": {
      "text/plain": [
       "RandomForestClassifier(n_estimators=500, n_jobs=9)"
      ]
     },
     "execution_count": 71,
     "metadata": {},
     "output_type": "execute_result"
    }
   ],
   "source": [
    "rf = RandomForestClassifier(500, n_jobs=9)\n",
    "rf.fit(x_train_resampled, y_train_resampled)"
   ]
  },
  {
   "cell_type": "code",
   "execution_count": 72,
   "metadata": {},
   "outputs": [
    {
     "data": {
      "text/plain": [
       "(0.49814408712551594, 0.9999429028206006)"
      ]
     },
     "execution_count": 72,
     "metadata": {},
     "output_type": "execute_result"
    }
   ],
   "source": [
    "roc_auc_score(y_test, rf.predict(x_test)), roc_auc_score(y_train_resampled, rf.predict(x_train_resampled))"
   ]
  },
  {
   "cell_type": "code",
   "execution_count": 74,
   "metadata": {},
   "outputs": [
    {
     "data": {
      "text/plain": [
       "Age                           0.168270\n",
       "Previously_Insured            0.013705\n",
       "Annual_Premium                0.279231\n",
       "Vintage                       0.283741\n",
       "Policy_Sales_Channel_Label    0.068982\n",
       "Region_Code_Labels            0.142589\n",
       "Gender_Male                   0.019884\n",
       "Vehicle_Age_< 1 Year          0.005352\n",
       "Vehicle_Age_> 2 Years         0.004756\n",
       "Vehicle_Damage_Yes            0.013489\n",
       "dtype: float64"
      ]
     },
     "execution_count": 74,
     "metadata": {},
     "output_type": "execute_result"
    }
   ],
   "source": [
    "pd.Series(rf.feature_importances_, index=df.columns)"
   ]
  },
  {
   "cell_type": "code",
   "execution_count": null,
   "metadata": {},
   "outputs": [],
   "source": []
  }
 ],
 "metadata": {
  "kernelspec": {
   "display_name": "Python 3",
   "language": "python",
   "name": "python3"
  },
  "language_info": {
   "codemirror_mode": {
    "name": "ipython",
    "version": 3
   },
   "file_extension": ".py",
   "mimetype": "text/x-python",
   "name": "python",
   "nbconvert_exporter": "python",
   "pygments_lexer": "ipython3",
   "version": "3.8.3"
  }
 },
 "nbformat": 4,
 "nbformat_minor": 4
}
